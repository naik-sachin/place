{
 "cells": [
  {
   "cell_type": "markdown",
   "metadata": {},
   "source": [
    "# import files"
   ]
  },
  {
   "cell_type": "code",
   "execution_count": 1,
   "metadata": {
    "ExecuteTime": {
     "end_time": "2021-07-30T13:04:11.702681Z",
     "start_time": "2021-07-30T13:04:10.559568Z"
    }
   },
   "outputs": [],
   "source": [
    "import pandas as pd\n",
    "from pandas import DataFrame"
   ]
  },
  {
   "cell_type": "code",
   "execution_count": 2,
   "metadata": {
    "ExecuteTime": {
     "end_time": "2021-07-30T13:04:11.718673Z",
     "start_time": "2021-07-30T13:04:11.706678Z"
    }
   },
   "outputs": [],
   "source": [
    "# df_old"
   ]
  },
  {
   "cell_type": "code",
   "execution_count": 3,
   "metadata": {
    "ExecuteTime": {
     "end_time": "2021-07-30T13:04:11.813647Z",
     "start_time": "2021-07-30T13:04:11.723673Z"
    }
   },
   "outputs": [],
   "source": [
    "df = pd.read_csv('XXFRO Freshman Orientation Advising.csv')#new deposit list \n",
    "df_fall2020 = pd.read_csv('FALL 2020 Placement Freshmen list.csv',encoding= 'unicode_escape')\n",
    "df_majors = pd.read_csv('Majors.csv')"
   ]
  },
  {
   "cell_type": "code",
   "execution_count": 4,
   "metadata": {
    "ExecuteTime": {
     "end_time": "2021-07-30T13:04:11.829637Z",
     "start_time": "2021-07-30T13:04:11.818642Z"
    }
   },
   "outputs": [],
   "source": [
    "# df.head()"
   ]
  },
  {
   "cell_type": "code",
   "execution_count": 5,
   "metadata": {
    "ExecuteTime": {
     "end_time": "2021-07-30T13:04:11.845632Z",
     "start_time": "2021-07-30T13:04:11.833636Z"
    }
   },
   "outputs": [],
   "source": [
    "# df.info()"
   ]
  },
  {
   "cell_type": "markdown",
   "metadata": {},
   "source": [
    "# Update major categorization"
   ]
  },
  {
   "cell_type": "code",
   "execution_count": 6,
   "metadata": {
    "ExecuteTime": {
     "end_time": "2021-07-30T13:04:11.861627Z",
     "start_time": "2021-07-30T13:04:11.849632Z"
    }
   },
   "outputs": [],
   "source": [
    "major_list1= list(set(df_majors['Academic Program']))#majors last fall\n",
    "major_list2 = list(set(df['Academic Program']))#majors new deposit list \n",
    "uncategorized_majors = [a for a in major_list2 if (a not in major_list1)]#save new majors\n",
    "uncategorized_majors = sorted(list(set(uncategorized_majors)))"
   ]
  },
  {
   "cell_type": "code",
   "execution_count": 7,
   "metadata": {
    "ExecuteTime": {
     "end_time": "2021-07-30T13:04:11.893616Z",
     "start_time": "2021-07-30T13:04:11.864626Z"
    }
   },
   "outputs": [
    {
     "name": "stdout",
     "output_type": "stream",
     "text": [
      "0\n"
     ]
    },
    {
     "data": {
      "text/plain": [
       "[]"
      ]
     },
     "execution_count": 7,
     "metadata": {},
     "output_type": "execute_result"
    }
   ],
   "source": [
    "# uncategorized majors \n",
    "print(len(uncategorized_majors))\n",
    "uncategorized_majors"
   ]
  },
  {
   "cell_type": "code",
   "execution_count": 8,
   "metadata": {
    "ExecuteTime": {
     "end_time": "2021-07-30T13:04:11.924609Z",
     "start_time": "2021-07-30T13:04:11.900614Z"
    }
   },
   "outputs": [
    {
     "ename": "SyntaxError",
     "evalue": "invalid syntax (<ipython-input-8-a35077a93b18>, line 1)",
     "output_type": "error",
     "traceback": [
      "\u001b[1;36m  File \u001b[1;32m\"<ipython-input-8-a35077a93b18>\"\u001b[1;36m, line \u001b[1;32m1\u001b[0m\n\u001b[1;33m    )\u001b[0m\n\u001b[1;37m    ^\u001b[0m\n\u001b[1;31mSyntaxError\u001b[0m\u001b[1;31m:\u001b[0m invalid syntax\n"
     ]
    }
   ],
   "source": [
    ")"
   ]
  },
  {
   "cell_type": "markdown",
   "metadata": {
    "ExecuteTime": {
     "end_time": "2021-04-21T17:04:57.889871Z",
     "start_time": "2021-04-21T17:04:57.864879Z"
    }
   },
   "source": [
    "major_list1= list(set(df_fall2020['Academic Program']))#majors last fall\n",
    "major_list2 = list(set(df['Academic Program']))#majors new deposit list \n",
    "uncategorized_majors = [a for a in major_list2 if (a not in major_list1)]#save new majors\n",
    "uncategorized_majors = sorted(list(set(uncategorized_majors)))"
   ]
  },
  {
   "cell_type": "markdown",
   "metadata": {
    "ExecuteTime": {
     "end_time": "2021-04-21T17:04:57.951850Z",
     "start_time": "2021-04-21T17:04:57.893869Z"
    }
   },
   "source": [
    "\n",
    "print(len(uncategorized_majors))\n",
    "uncategorized_majors"
   ]
  },
  {
   "cell_type": "code",
   "execution_count": null,
   "metadata": {
    "ExecuteTime": {
     "end_time": "2021-07-30T13:04:11.933606Z",
     "start_time": "2021-07-30T13:04:10.600Z"
    }
   },
   "outputs": [],
   "source": [
    "#majors by college from last fall\n",
    "silberman_major_list = list(df_fall2020.loc[df_fall2020['College']=='Silberman']['Academic Program'].unique())\n",
    "Not_silberman_major_list  =list( df_fall2020.loc[df_fall2020['College']!='Silberman']['Academic Program'].unique()) \n",
    "##stem/non-stem from last fall\n",
    "stem_majors = list(df_fall2020.loc[df_fall2020['non-stem']=='Stem']['Academic Program'].unique())\n",
    "non_stem_majors = list(df_fall2020.loc[df_fall2020['non-stem']=='non-stem']['Academic Program'].unique())"
   ]
  },
  {
   "cell_type": "code",
   "execution_count": null,
   "metadata": {
    "ExecuteTime": {
     "end_time": "2021-07-30T13:04:11.936603Z",
     "start_time": "2021-07-30T13:04:10.604Z"
    }
   },
   "outputs": [],
   "source": [
    "new_silberman_majors = ['BUAD4.SUSM.MAD']\n",
    "new_not_silberman_majors =[ 'BIOC3.PHCY9.7.MAD',\n",
    "                            'BIOL3.BSDO2.MAD',\n",
    "                            'BIOL3.BSDPT.RU.MAD',\n",
    "                            'BIOL3.PHCY9.7.MAD',\n",
    "                            'BIOL3.PREDR.MAD',\n",
    "                            'BIOL3.PREVT.MAD',\n",
    "                            'MATH3.QUEST1.MAD',\n",
    "                            'COM3.PUBRL.MAD',\n",
    "                            'LIT3.QUEST2.MAD',\n",
    "                            'LHM5.EP.MAD',\n",
    "                            'PSYC3.CLSOC.MAD',\n",
    "                            'PSYC3.CPSY.MAD',\n",
    "                            'PSYC3.FOPSY.MAD',\n",
    "                            'THEA3.MTHEA.QST1.MAD',\n",
    "                            'PSYC3.QUEST3.MAD',\n",
    "                            'MATH3.FINM.MAD',\n",
    "                            'NCH3.MAD',\n",
    "                            'THEA3.DIRE.MAD',\n",
    "                            'SOCI3.QUEST1.MAD',\n",
    "                            'FIAN3.41.C.MAD',\n",
    "                            'HTIE5.MAD']"
   ]
  },
  {
   "cell_type": "code",
   "execution_count": null,
   "metadata": {
    "ExecuteTime": {
     "end_time": "2021-07-30T13:04:11.938602Z",
     "start_time": "2021-07-30T13:04:10.607Z"
    }
   },
   "outputs": [],
   "source": [
    "#uncategorized majors college selection\n",
    "silberman_major_list.extend(new_silberman_majors)\n",
    "\n",
    "Not_silberman_major_list.extend(new_not_silberman_majors)"
   ]
  },
  {
   "cell_type": "code",
   "execution_count": null,
   "metadata": {
    "ExecuteTime": {
     "end_time": "2021-07-30T13:04:11.941601Z",
     "start_time": "2021-07-30T13:04:10.617Z"
    }
   },
   "outputs": [],
   "source": [
    "#get rid of duplicate majors\n",
    "silberman_major_list = list(set(silberman_major_list))\n",
    "Not_silberman_major_list = list(set(Not_silberman_major_list))\n",
    "# silberman_major_list\n",
    "# Not_silberman_major_list"
   ]
  },
  {
   "cell_type": "code",
   "execution_count": null,
   "metadata": {
    "ExecuteTime": {
     "end_time": "2021-07-30T13:04:11.944600Z",
     "start_time": "2021-07-30T13:04:10.621Z"
    }
   },
   "outputs": [],
   "source": [
    "#uncategorizaed majors stem/nonstem selection\n",
    "new_stem_majors = [  'BIOC3.PHCY9.7.MAD',\n",
    "                     'BIOL3.BSDO2.MAD',\n",
    "                     'BIOL3.BSDPT.RU.MAD',\n",
    "                     'BIOL3.PHCY9.7.MAD',\n",
    "                     'BIOL3.PREDR.MAD',\n",
    "                     'BIOL3.PREVT.MAD',\n",
    "                     'MATH3.QUEST1.MAD',\n",
    "                     'HLTH3.ADV.MAD',\n",
    "                     'MATH3.FINM.MAD']\n",
    "\n",
    "\n",
    "new_non_stem_majors = [ 'COM3.PUBRL.MAD',\n",
    "                        'LIT3.QUEST2.MAD',\n",
    "                        'LHM5.EP.MAD',\n",
    "                        'PSYC3.CLSOC.MAD',\n",
    "                        'PSYC3.CPSY.MAD',\n",
    "                        'PSYC3.FOPSY.MAD',\n",
    "                        'THEA3.MTHEA.QST1.MAD',\n",
    "                        'BUAD4.SUSM.MAD',\n",
    "                        'PSYC3.QUEST3.MAD',\n",
    "                        'NCH3.MAD',\n",
    "                        'THEA3.DIRE.MAD',\n",
    "                        'SOCI3.QUEST1.MAD',\n",
    "                        'FIAN3.41.C.MAD',\n",
    "                        'HTIE5.MAD']"
   ]
  },
  {
   "cell_type": "code",
   "execution_count": null,
   "metadata": {
    "ExecuteTime": {
     "end_time": "2021-07-30T13:04:11.947599Z",
     "start_time": "2021-07-30T13:04:10.625Z"
    }
   },
   "outputs": [],
   "source": [
    "# update stem _majors with uncategorized stem majors  \n",
    "stem_majors.extend(new_stem_majors)# all stem\n",
    "non_stem_majors.extend(new_non_stem_majors)# all non-stem\n",
    "\n",
    "# stem_majors.append('BIOL3.BSDO2.MAD')"
   ]
  },
  {
   "cell_type": "code",
   "execution_count": null,
   "metadata": {
    "ExecuteTime": {
     "end_time": "2021-07-30T13:04:11.951598Z",
     "start_time": "2021-07-30T13:04:10.631Z"
    }
   },
   "outputs": [],
   "source": [
    "#get rid of duplicate stem majors\n",
    "stem_majors = list(set(stem_majors))\n",
    "non_stem_majors = list(set(non_stem_majors))\n"
   ]
  }
 ],
 "metadata": {
  "kernelspec": {
   "display_name": "Python [conda env:learn-env] *",
   "language": "python",
   "name": "conda-env-learn-env-py"
  },
  "language_info": {
   "codemirror_mode": {
    "name": "ipython",
    "version": 3
   },
   "file_extension": ".py",
   "mimetype": "text/x-python",
   "name": "python",
   "nbconvert_exporter": "python",
   "pygments_lexer": "ipython3",
   "version": "3.6.12"
  },
  "toc": {
   "base_numbering": 1,
   "nav_menu": {},
   "number_sections": true,
   "sideBar": true,
   "skip_h1_title": false,
   "title_cell": "Table of Contents",
   "title_sidebar": "Contents",
   "toc_cell": false,
   "toc_position": {
    "height": "calc(100% - 180px)",
    "left": "10px",
    "top": "150px",
    "width": "165px"
   },
   "toc_section_display": true,
   "toc_window_display": true
  },
  "varInspector": {
   "cols": {
    "lenName": 16,
    "lenType": 16,
    "lenVar": 40
   },
   "kernels_config": {
    "python": {
     "delete_cmd_postfix": "",
     "delete_cmd_prefix": "del ",
     "library": "var_list.py",
     "varRefreshCmd": "print(var_dic_list())"
    },
    "r": {
     "delete_cmd_postfix": ") ",
     "delete_cmd_prefix": "rm(",
     "library": "var_list.r",
     "varRefreshCmd": "cat(var_dic_list()) "
    }
   },
   "types_to_exclude": [
    "module",
    "function",
    "builtin_function_or_method",
    "instance",
    "_Feature"
   ],
   "window_display": false
  }
 },
 "nbformat": 4,
 "nbformat_minor": 4
}
