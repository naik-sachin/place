{
 "cells": [
  {
   "cell_type": "markdown",
   "metadata": {},
   "source": [
    "# import files"
   ]
  },
  {
   "cell_type": "code",
   "execution_count": 1,
   "metadata": {
    "ExecuteTime": {
     "end_time": "2021-06-29T15:07:08.592946Z",
     "start_time": "2021-06-29T15:07:07.743225Z"
    }
   },
   "outputs": [],
   "source": [
    "import pandas as pd\n",
    "from pandas import DataFrame"
   ]
  },
  {
   "cell_type": "code",
   "execution_count": 2,
   "metadata": {
    "ExecuteTime": {
     "end_time": "2021-06-29T15:07:08.608941Z",
     "start_time": "2021-06-29T15:07:08.594945Z"
    }
   },
   "outputs": [],
   "source": [
    "# df_old"
   ]
  },
  {
   "cell_type": "code",
   "execution_count": 3,
   "metadata": {
    "ExecuteTime": {
     "end_time": "2021-06-29T15:07:08.682917Z",
     "start_time": "2021-06-29T15:07:08.613939Z"
    }
   },
   "outputs": [],
   "source": [
    "\n",
    "df = pd.read_csv('XXFRO Freshman Orientation Advising June29.csv')#new deposit list \n",
    "df_fall2020 = pd.read_csv('FALL 2020 Placement Freshmen list.csv',encoding= 'unicode_escape')\n",
    "df_majors = pd.read_csv('Majors.csv')"
   ]
  },
  {
   "cell_type": "code",
   "execution_count": 4,
   "metadata": {
    "ExecuteTime": {
     "end_time": "2021-06-29T15:07:08.697911Z",
     "start_time": "2021-06-29T15:07:08.685916Z"
    }
   },
   "outputs": [],
   "source": [
    "# df.head()"
   ]
  },
  {
   "cell_type": "code",
   "execution_count": 5,
   "metadata": {
    "ExecuteTime": {
     "end_time": "2021-06-29T15:07:08.712907Z",
     "start_time": "2021-06-29T15:07:08.703910Z"
    }
   },
   "outputs": [],
   "source": [
    "# df.info()"
   ]
  },
  {
   "cell_type": "markdown",
   "metadata": {},
   "source": [
    "# Update major categorization"
   ]
  },
  {
   "cell_type": "code",
   "execution_count": 6,
   "metadata": {
    "ExecuteTime": {
     "end_time": "2021-06-29T15:07:08.729901Z",
     "start_time": "2021-06-29T15:07:08.715906Z"
    }
   },
   "outputs": [],
   "source": [
    "major_list1= list(set(df_majors['Academic Program']))#majors last fall\n",
    "major_list2 = list(set(df['Academic Program']))#majors new deposit list \n",
    "uncategorized_majors = [a for a in major_list2 if (a not in major_list1)]#save new majors\n",
    "uncategorized_majors = sorted(list(set(uncategorized_majors)))"
   ]
  },
  {
   "cell_type": "code",
   "execution_count": 7,
   "metadata": {
    "ExecuteTime": {
     "end_time": "2021-06-29T15:07:08.758891Z",
     "start_time": "2021-06-29T15:07:08.731900Z"
    }
   },
   "outputs": [
    {
     "name": "stdout",
     "output_type": "stream",
     "text": [
      "0\n"
     ]
    },
    {
     "data": {
      "text/plain": [
       "[]"
      ]
     },
     "execution_count": 7,
     "metadata": {},
     "output_type": "execute_result"
    }
   ],
   "source": [
    "# uncategorized majors \n",
    "print(len(uncategorized_majors))\n",
    "uncategorized_majors"
   ]
  },
  {
   "cell_type": "code",
   "execution_count": null,
   "metadata": {
    "ExecuteTime": {
     "end_time": "2021-06-21T14:05:32.984668Z",
     "start_time": "2021-06-21T14:05:32.968674Z"
    }
   },
   "outputs": [],
   "source": [
    ")"
   ]
  },
  {
   "cell_type": "markdown",
   "metadata": {
    "ExecuteTime": {
     "end_time": "2021-04-21T17:04:57.889871Z",
     "start_time": "2021-04-21T17:04:57.864879Z"
    }
   },
   "source": [
    "major_list1= list(set(df_fall2020['Academic Program']))#majors last fall\n",
    "major_list2 = list(set(df['Academic Program']))#majors new deposit list \n",
    "uncategorized_majors = [a for a in major_list2 if (a not in major_list1)]#save new majors\n",
    "uncategorized_majors = sorted(list(set(uncategorized_majors)))"
   ]
  },
  {
   "cell_type": "markdown",
   "metadata": {
    "ExecuteTime": {
     "end_time": "2021-04-21T17:04:57.951850Z",
     "start_time": "2021-04-21T17:04:57.893869Z"
    }
   },
   "source": [
    "\n",
    "print(len(uncategorized_majors))\n",
    "uncategorized_majors"
   ]
  }
 ],
 "metadata": {
  "kernelspec": {
   "display_name": "Python [conda env:learn-env] *",
   "language": "python",
   "name": "conda-env-learn-env-py"
  },
  "language_info": {
   "codemirror_mode": {
    "name": "ipython",
    "version": 3
   },
   "file_extension": ".py",
   "mimetype": "text/x-python",
   "name": "python",
   "nbconvert_exporter": "python",
   "pygments_lexer": "ipython3",
   "version": "3.6.12"
  },
  "toc": {
   "base_numbering": 1,
   "nav_menu": {},
   "number_sections": true,
   "sideBar": true,
   "skip_h1_title": false,
   "title_cell": "Table of Contents",
   "title_sidebar": "Contents",
   "toc_cell": false,
   "toc_position": {
    "height": "calc(100% - 180px)",
    "left": "10px",
    "top": "150px",
    "width": "165px"
   },
   "toc_section_display": true,
   "toc_window_display": true
  },
  "varInspector": {
   "cols": {
    "lenName": 16,
    "lenType": 16,
    "lenVar": 40
   },
   "kernels_config": {
    "python": {
     "delete_cmd_postfix": "",
     "delete_cmd_prefix": "del ",
     "library": "var_list.py",
     "varRefreshCmd": "print(var_dic_list())"
    },
    "r": {
     "delete_cmd_postfix": ") ",
     "delete_cmd_prefix": "rm(",
     "library": "var_list.r",
     "varRefreshCmd": "cat(var_dic_list()) "
    }
   },
   "types_to_exclude": [
    "module",
    "function",
    "builtin_function_or_method",
    "instance",
    "_Feature"
   ],
   "window_display": false
  }
 },
 "nbformat": 4,
 "nbformat_minor": 4
}
