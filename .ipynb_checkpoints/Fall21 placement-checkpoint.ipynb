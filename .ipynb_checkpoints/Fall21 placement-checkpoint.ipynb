{
 "cells": [
  {
   "cell_type": "code",
   "execution_count": 1,
   "metadata": {
    "ExecuteTime": {
     "end_time": "2021-07-26T18:49:06.618198Z",
     "start_time": "2021-07-26T18:49:06.608196Z"
    }
   },
   "outputs": [],
   "source": [
    "# orig = open('XXFRO Freshman Orientation Advising FA21.csv')\n",
    "# new = open('XXFRO Freshman Orientation Advising FA21 new .csv')\n",
    "\n",
    "# #in new but not in orig\n",
    "# bigb = set(new) - set(orig)\n",
    "\n",
    "# # To see results in console if desired\n",
    "# print(bigb)\n",
    "\n",
    "# # Write to output file    \n",
    "\n",
    "# with open('different.csv', 'w') as file_out:\n",
    "#     for line in bigb:\n",
    "#         file_out.write(line)\n",
    "\n",
    "# #close the files  \n",
    "# orig.close()    \n",
    "# new.close()    \n",
    "# file_out.close()"
   ]
  },
  {
   "cell_type": "markdown",
   "metadata": {},
   "source": [
    "# import files"
   ]
  },
  {
   "cell_type": "code",
   "execution_count": 1,
   "metadata": {
    "ExecuteTime": {
     "end_time": "2021-08-01T14:19:17.188814Z",
     "start_time": "2021-08-01T14:19:16.032505Z"
    }
   },
   "outputs": [],
   "source": [
    "import pandas as pd\n",
    "from pandas import DataFrame\n",
    "from datetime import date, datetime, timedelta"
   ]
  },
  {
   "cell_type": "code",
   "execution_count": 2,
   "metadata": {
    "ExecuteTime": {
     "end_time": "2021-08-01T14:19:21.793880Z",
     "start_time": "2021-08-01T14:19:21.747896Z"
    }
   },
   "outputs": [],
   "source": [
    "#new deposit list \n",
    "df = pd.read_csv('XXFRO Freshman Orientation Advising.csv')"
   ]
  },
  {
   "cell_type": "markdown",
   "metadata": {},
   "source": [
    "# Update major categorization"
   ]
  },
  {
   "cell_type": "code",
   "execution_count": null,
   "metadata": {},
   "outputs": [],
   "source": [
    "df_fall2020 = pd.read_csv('FALL 2020 Placement Freshmen list.csv',encoding= 'unicode_escape')\n",
    "df_majors = pd.read_csv('Majors.csv')"
   ]
  },
  {
   "cell_type": "code",
   "execution_count": null,
   "metadata": {},
   "outputs": [],
   "source": [
    "major_list1= list(set(df_majors['Academic Program']))#majors last fall\n",
    "major_list2 = list(set(df['Academic Program']))#majors new deposit list \n",
    "uncategorized_majors = [a for a in major_list2 if (a not in major_list1)]#save new majors\n",
    "uncategorized_majors = sorted(list(set(uncategorized_majors)))"
   ]
  },
  {
   "cell_type": "code",
   "execution_count": null,
   "metadata": {},
   "outputs": [],
   "source": [
    "if len(uncategorized_majors) !=0:\n",
    "    print(len(uncategorized_majors))\n",
    "    print(uncategorized_majors)\n",
    "    raise SystemExit(\"New uncategorized Major present!\")"
   ]
  },
  {
   "cell_type": "code",
   "execution_count": null,
   "metadata": {},
   "outputs": [],
   "source": [
    "#majors by college from last fall\n",
    "silberman_major_list = list(df_fall2020.loc[df_fall2020['College']=='Silberman']['Academic Program'].unique())\n",
    "Not_silberman_major_list  =list( df_fall2020.loc[df_fall2020['College']!='Silberman']['Academic Program'].unique())"
   ]
  },
  {
   "cell_type": "code",
   "execution_count": null,
   "metadata": {},
   "outputs": [],
   "source": [
    "##stem/non-stem from last fall\n",
    "stem_majors = list(df_fall2020.loc[df_fall2020['non-stem']=='Stem']['Academic Program'].unique())\n",
    "non_stem_majors = list(df_fall2020.loc[df_fall2020['non-stem']=='non-stem']['Academic Program'].unique())"
   ]
  },
  {
   "cell_type": "code",
   "execution_count": null,
   "metadata": {},
   "outputs": [],
   "source": [
    "new_silberman_majors = ['BUAD4.SUSM.MAD']\n",
    "new_not_silberman_majors =[ 'BIOC3.PHCY9.7.MAD',\n",
    "                            'BIOL3.BSDO2.MAD',\n",
    "                            'BIOL3.BSDPT.RU.MAD',\n",
    "                            'BIOL3.PHCY9.7.MAD',\n",
    "                            'BIOL3.PREDR.MAD',\n",
    "                            'BIOL3.PREVT.MAD',\n",
    "                            'MATH3.QUEST1.MAD',\n",
    "                            'COM3.PUBRL.MAD',\n",
    "                            'LIT3.QUEST2.MAD',\n",
    "                            'LHM5.EP.MAD',\n",
    "                            'PSYC3.CLSOC.MAD',\n",
    "                            'PSYC3.CPSY.MAD',\n",
    "                            'PSYC3.FOPSY.MAD',\n",
    "                            'THEA3.MTHEA.QST1.MAD',\n",
    "                            'PSYC3.QUEST3.MAD',\n",
    "                            'MATH3.FINM.MAD',\n",
    "                            'NCH3.MAD',\n",
    "                            'THEA3.DIRE.MAD',\n",
    "                            'SOCI3.QUEST1.MAD',\n",
    "                            'FIAN3.41.C.MAD',\n",
    "                            'HTIE5.MAD',\n",
    "                          'CRWR3.QUEST1.MAD']"
   ]
  },
  {
   "cell_type": "code",
   "execution_count": null,
   "metadata": {},
   "outputs": [],
   "source": [
    "#uncategorized majors college selection\n",
    "silberman_major_list.extend(new_silberman_majors)\n",
    "\n",
    "Not_silberman_major_list.extend(new_not_silberman_majors)"
   ]
  },
  {
   "cell_type": "code",
   "execution_count": null,
   "metadata": {},
   "outputs": [],
   "source": [
    "#get rid of duplicate majors\n",
    "silberman_major_list = list(set(silberman_major_list))\n",
    "Not_silberman_major_list = list(set(Not_silberman_major_list))\n",
    "# silberman_major_list\n",
    "# Not_silberman_major_list"
   ]
  },
  {
   "cell_type": "code",
   "execution_count": null,
   "metadata": {},
   "outputs": [],
   "source": [
    "#uncategorizaed majors stem/nonstem selection\n",
    "new_stem_majors = [  'BIOC3.PHCY9.7.MAD',\n",
    "                     'BIOL3.BSDO2.MAD',\n",
    "                     'BIOL3.BSDPT.RU.MAD',\n",
    "                     'BIOL3.PHCY9.7.MAD',\n",
    "                     'BIOL3.PREDR.MAD',\n",
    "                     'BIOL3.PREVT.MAD',\n",
    "                     'MATH3.QUEST1.MAD',\n",
    "                     'HLTH3.ADV.MAD',\n",
    "                     'MATH3.FINM.MAD']\n",
    "\n",
    "\n",
    "new_non_stem_majors = [ 'COM3.PUBRL.MAD',\n",
    "                        'LIT3.QUEST2.MAD',\n",
    "                        'LHM5.EP.MAD',\n",
    "                        'PSYC3.CLSOC.MAD',\n",
    "                        'PSYC3.CPSY.MAD',\n",
    "                        'PSYC3.FOPSY.MAD',\n",
    "                        'THEA3.MTHEA.QST1.MAD',\n",
    "                        'BUAD4.SUSM.MAD',\n",
    "                        'PSYC3.QUEST3.MAD',\n",
    "                        'NCH3.MAD',\n",
    "                        'THEA3.DIRE.MAD',\n",
    "                        'SOCI3.QUEST1.MAD',\n",
    "                        'FIAN3.41.C.MAD',\n",
    "                        'HTIE5.MAD',\n",
    "                      'CRWR3.QUEST1.MAD']"
   ]
  },
  {
   "cell_type": "code",
   "execution_count": null,
   "metadata": {},
   "outputs": [],
   "source": [
    "# update stem _majors with uncategorized stem majors  \n",
    "stem_majors.extend(new_stem_majors)# all stem\n",
    "non_stem_majors.extend(new_non_stem_majors)# all non-stem\n",
    "\n",
    "# stem_majors.append('BIOL3.BSDO2.MAD')"
   ]
  },
  {
   "cell_type": "code",
   "execution_count": null,
   "metadata": {},
   "outputs": [],
   "source": [
    "#get rid of duplicate stem majors\n",
    "stem_majors = list(set(stem_majors))\n",
    "non_stem_majors = list(set(non_stem_majors))\n"
   ]
  },
  {
   "cell_type": "code",
   "execution_count": null,
   "metadata": {},
   "outputs": [],
   "source": [
    "#save major categorization \n",
    "major_list = set(silberman_major_list + Not_silberman_major_list)# all known majors from last fall and this fall\n",
    "df_majors = DataFrame (major_list,columns=['Academic Program'])#dataframe of all majors\n",
    "df_majors.loc[df_majors['Academic Program'].isin(silberman_major_list),'College'] = 'Silberman'\n",
    "df_majors.loc[df_majors['Academic Program'].isin(Not_silberman_major_list),'College'] = 'Not Silberman'\n",
    "df_majors.loc[df_majors['Academic Program'].isin(stem_majors),'Becton Program group'] = 'Stem'\n",
    "df_majors['Becton Program group'].fillna('non-stem',inplace = True)\n"
   ]
  },
  {
   "cell_type": "code",
   "execution_count": null,
   "metadata": {},
   "outputs": [],
   "source": [
    "df_majors.to_csv('Majors.csv',index =False)"
   ]
  },
  {
   "cell_type": "markdown",
   "metadata": {},
   "source": [
    "# use max sat"
   ]
  },
  {
   "cell_type": "code",
   "execution_count": null,
   "metadata": {},
   "outputs": [],
   "source": [
    "def str_to_int (df,column):\n",
    "    \"\"\"Converts string list to int list and then finds and replaces with max in the int list\"\"\"\n",
    "    #fill nan with 0\n",
    "    df[column].fillna('0',inplace=True)\n",
    "    # convert string to list using comma as seperator\n",
    "    df[column] = df[column].astype(str).str.split(\",\")\n",
    "     #convert elements of list from string to int\n",
    "    df[column] = df[column].map(lambda x: [int(float(i)) for i in x])\n",
    "    #replace list with max in list \n",
    "    df[column] = df[column].map(lambda x: max(x))\n",
    "    #Covert to int data type\n",
    "    df[column] = df[column].astype(int)\n",
    "    "
   ]
  },
  {
   "cell_type": "code",
   "execution_count": null,
   "metadata": {},
   "outputs": [],
   "source": [
    "str_to_int(df,'X Appl Satvr List ')"
   ]
  },
  {
   "cell_type": "code",
   "execution_count": null,
   "metadata": {},
   "outputs": [],
   "source": [
    "str_to_int(df,'X Appl Satmr List ')\n"
   ]
  },
  {
   "cell_type": "markdown",
   "metadata": {},
   "source": [
    "# Update major categorization"
   ]
  },
  {
   "cell_type": "code",
   "execution_count": null,
   "metadata": {},
   "outputs": [],
   "source": [
    "# knowmn majors by college so far\n",
    "silberman_major_list = list(df_majors.loc[df_majors['College']=='Silberman']['Academic Program'].unique())\n",
    "Not_silberman_major_list  =list( df_majors.loc[df_majors['College']!='Silberman']['Academic Program'].unique()) "
   ]
  },
  {
   "cell_type": "code",
   "execution_count": null,
   "metadata": {},
   "outputs": [],
   "source": [
    "# Assign colleges to majors in new deposit list \n",
    "df.loc[df['Academic Program'].isin(silberman_major_list),'College'] = 'Silberman'\n",
    "df.loc[df['Academic Program'].isin(Not_silberman_major_list),'College'] = 'Not Silberman'"
   ]
  },
  {
   "cell_type": "code",
   "execution_count": null,
   "metadata": {},
   "outputs": [],
   "source": [
    "#unknown college majors check(should be 0)\n",
    "df.loc[df['College'].isna()]['Academic Program'].unique().sum()"
   ]
  },
  {
   "cell_type": "code",
   "execution_count": null,
   "metadata": {},
   "outputs": [],
   "source": [
    "df.loc[df['College'].isna()]['Academic Program']"
   ]
  },
  {
   "cell_type": "code",
   "execution_count": null,
   "metadata": {},
   "outputs": [],
   "source": [
    "#stem from last fall\n",
    "stem_majors = list(df_majors.loc[df_majors['Becton Program group']=='Stem']['Academic Program'].unique())\n",
    "non_stem_majors = list(df_majors.loc[df_majors['Becton Program group']=='non-stem']['Academic Program'].unique())"
   ]
  }
 ],
 "metadata": {
  "kernelspec": {
   "display_name": "Python [conda env:learn-env] *",
   "language": "python",
   "name": "conda-env-learn-env-py"
  },
  "language_info": {
   "codemirror_mode": {
    "name": "ipython",
    "version": 3
   },
   "file_extension": ".py",
   "mimetype": "text/x-python",
   "name": "python",
   "nbconvert_exporter": "python",
   "pygments_lexer": "ipython3",
   "version": "3.6.12"
  },
  "toc": {
   "base_numbering": 1,
   "nav_menu": {},
   "number_sections": true,
   "sideBar": true,
   "skip_h1_title": false,
   "title_cell": "Table of Contents",
   "title_sidebar": "Contents",
   "toc_cell": false,
   "toc_position": {
    "height": "calc(100% - 180px)",
    "left": "10px",
    "top": "150px",
    "width": "165px"
   },
   "toc_section_display": true,
   "toc_window_display": true
  },
  "varInspector": {
   "cols": {
    "lenName": 16,
    "lenType": 16,
    "lenVar": 40
   },
   "kernels_config": {
    "python": {
     "delete_cmd_postfix": "",
     "delete_cmd_prefix": "del ",
     "library": "var_list.py",
     "varRefreshCmd": "print(var_dic_list())"
    },
    "r": {
     "delete_cmd_postfix": ") ",
     "delete_cmd_prefix": "rm(",
     "library": "var_list.r",
     "varRefreshCmd": "cat(var_dic_list()) "
    }
   },
   "types_to_exclude": [
    "module",
    "function",
    "builtin_function_or_method",
    "instance",
    "_Feature"
   ],
   "window_display": false
  }
 },
 "nbformat": 4,
 "nbformat_minor": 4
}
