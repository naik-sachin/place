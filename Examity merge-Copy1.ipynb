{
 "cells": [
  {
   "cell_type": "markdown",
   "metadata": {},
   "source": [
    "Merge accuplacer code/profile"
   ]
  },
  {
   "cell_type": "code",
   "execution_count": 1,
   "metadata": {
    "ExecuteTime": {
     "end_time": "2021-06-29T15:12:59.176455Z",
     "start_time": "2021-06-29T15:12:57.866065Z"
    }
   },
   "outputs": [],
   "source": [
    "import pandas as pd \n",
    "from datetime import datetime\n"
   ]
  },
  {
   "cell_type": "code",
   "execution_count": 2,
   "metadata": {
    "ExecuteTime": {
     "end_time": "2021-06-29T15:12:59.266419Z",
     "start_time": "2021-06-29T15:12:59.180449Z"
    }
   },
   "outputs": [],
   "source": [
    "df = pd.read_csv('FALL 2021 Placement Freshmen list post ACCUPLACER_june29.csv')"
   ]
  },
  {
   "cell_type": "code",
   "execution_count": 3,
   "metadata": {
    "ExecuteTime": {
     "end_time": "2021-06-29T15:12:59.463356Z",
     "start_time": "2021-06-29T15:12:59.273419Z"
    }
   },
   "outputs": [
    {
     "data": {
      "text/html": [
       "<div>\n",
       "<style scoped>\n",
       "    .dataframe tbody tr th:only-of-type {\n",
       "        vertical-align: middle;\n",
       "    }\n",
       "\n",
       "    .dataframe tbody tr th {\n",
       "        vertical-align: top;\n",
       "    }\n",
       "\n",
       "    .dataframe thead th {\n",
       "        text-align: right;\n",
       "    }\n",
       "</style>\n",
       "<table border=\"1\" class=\"dataframe\">\n",
       "  <thead>\n",
       "    <tr style=\"text-align: right;\">\n",
       "      <th></th>\n",
       "      <th>Applicant</th>\n",
       "      <th>Appl First Name</th>\n",
       "      <th>Appl Last Name</th>\n",
       "      <th>Gender</th>\n",
       "      <th>College</th>\n",
       "      <th>Becton Program group</th>\n",
       "      <th>Testing Status</th>\n",
       "      <th>Birthdate</th>\n",
       "      <th>Academic Program</th>\n",
       "      <th>Major Desc.</th>\n",
       "      <th>...</th>\n",
       "      <th>X Appl Camporg Desc</th>\n",
       "      <th>HS}GPA</th>\n",
       "      <th>Addr Line 1</th>\n",
       "      <th>City</th>\n",
       "      <th>State</th>\n",
       "      <th>Zip</th>\n",
       "      <th>Orientation Date</th>\n",
       "      <th>Initial Email outreach</th>\n",
       "      <th>Voucher No</th>\n",
       "      <th>Branching Profile</th>\n",
       "    </tr>\n",
       "  </thead>\n",
       "  <tbody>\n",
       "    <tr>\n",
       "      <th>0</th>\n",
       "      <td>2002077</td>\n",
       "      <td>Robert</td>\n",
       "      <td>Abril</td>\n",
       "      <td>M</td>\n",
       "      <td>Silberman</td>\n",
       "      <td>non-stem</td>\n",
       "      <td>High Exempt</td>\n",
       "      <td>2002-11-14</td>\n",
       "      <td>BUAD4.MAD</td>\n",
       "      <td>Business Administration</td>\n",
       "      <td>...</td>\n",
       "      <td>NaN</td>\n",
       "      <td>2.220</td>\n",
       "      <td>444 Mount Prospect Ave Apt 516</td>\n",
       "      <td>Newark</td>\n",
       "      <td>NJ</td>\n",
       "      <td>07104-2925</td>\n",
       "      <td>NaN</td>\n",
       "      <td>6/29/21</td>\n",
       "      <td>NaN</td>\n",
       "      <td>NaN</td>\n",
       "    </tr>\n",
       "    <tr>\n",
       "      <th>1</th>\n",
       "      <td>2001119</td>\n",
       "      <td>Laila</td>\n",
       "      <td>Gallo</td>\n",
       "      <td>F</td>\n",
       "      <td>Not Silberman</td>\n",
       "      <td>non-stem</td>\n",
       "      <td>Required(No score)</td>\n",
       "      <td>2001-05-05</td>\n",
       "      <td>NCED2.MAD</td>\n",
       "      <td>Exploring Education</td>\n",
       "      <td>...</td>\n",
       "      <td>NaN</td>\n",
       "      <td>3.310, 4.000, , 4.000</td>\n",
       "      <td>36 New England Rd</td>\n",
       "      <td>Maplewood</td>\n",
       "      <td>NJ</td>\n",
       "      <td>07040-1057</td>\n",
       "      <td>NaN</td>\n",
       "      <td>5/4/2021</td>\n",
       "      <td>EI-HPH5FM4T</td>\n",
       "      <td>* Reading and Math 2021</td>\n",
       "    </tr>\n",
       "    <tr>\n",
       "      <th>2</th>\n",
       "      <td>1979093</td>\n",
       "      <td>Ty-Ajah</td>\n",
       "      <td>Johnson</td>\n",
       "      <td>F</td>\n",
       "      <td>Not Silberman</td>\n",
       "      <td>non-stem</td>\n",
       "      <td>Exempt</td>\n",
       "      <td>2002-10-16</td>\n",
       "      <td>HTIE5.MAD</td>\n",
       "      <td>Hosp &amp; Tour Innov and Excel</td>\n",
       "      <td>...</td>\n",
       "      <td>NaN</td>\n",
       "      <td>3.980, 3.500</td>\n",
       "      <td>217 W Market St Apt 2B</td>\n",
       "      <td>Newark</td>\n",
       "      <td>NJ</td>\n",
       "      <td>07103-2732</td>\n",
       "      <td>Wednesday, July 14</td>\n",
       "      <td>5/4/2021</td>\n",
       "      <td>NaN</td>\n",
       "      <td>NaN</td>\n",
       "    </tr>\n",
       "    <tr>\n",
       "      <th>3</th>\n",
       "      <td>1988029</td>\n",
       "      <td>Kasey</td>\n",
       "      <td>Olechowski</td>\n",
       "      <td>F</td>\n",
       "      <td>Not Silberman</td>\n",
       "      <td>Stem</td>\n",
       "      <td>Required(No score)</td>\n",
       "      <td>2002-03-04</td>\n",
       "      <td>HLTH3.MAD</td>\n",
       "      <td>Health Studies</td>\n",
       "      <td>...</td>\n",
       "      <td>NaN</td>\n",
       "      <td>3.190</td>\n",
       "      <td>39 Coventry Way</td>\n",
       "      <td>Ringwood</td>\n",
       "      <td>NJ</td>\n",
       "      <td>07456-2747</td>\n",
       "      <td>Monday, June 14 (Virtual)</td>\n",
       "      <td>4/5/2021</td>\n",
       "      <td>NaN</td>\n",
       "      <td>NaN</td>\n",
       "    </tr>\n",
       "    <tr>\n",
       "      <th>4</th>\n",
       "      <td>1970935</td>\n",
       "      <td>Thomas (Jacob)</td>\n",
       "      <td>Sanders</td>\n",
       "      <td>M</td>\n",
       "      <td>Silberman</td>\n",
       "      <td>non-stem</td>\n",
       "      <td>Required</td>\n",
       "      <td>2001-01-29</td>\n",
       "      <td>MGMT4.LEAD.MAD</td>\n",
       "      <td>Business Management</td>\n",
       "      <td>...</td>\n",
       "      <td>NaN</td>\n",
       "      <td>2.880</td>\n",
       "      <td>131 Dunellen Ave</td>\n",
       "      <td>Dunellen</td>\n",
       "      <td>NJ</td>\n",
       "      <td>08812-1229</td>\n",
       "      <td>Wednesday, June 23</td>\n",
       "      <td>5/4/2021</td>\n",
       "      <td>NaN</td>\n",
       "      <td>NaN</td>\n",
       "    </tr>\n",
       "  </tbody>\n",
       "</table>\n",
       "<p>5 rows × 50 columns</p>\n",
       "</div>"
      ],
      "text/plain": [
       "   Applicant Appl First Name Appl Last Name Gender        College  \\\n",
       "0    2002077          Robert          Abril      M      Silberman   \n",
       "1    2001119           Laila          Gallo      F  Not Silberman   \n",
       "2    1979093         Ty-Ajah        Johnson      F  Not Silberman   \n",
       "3    1988029           Kasey     Olechowski      F  Not Silberman   \n",
       "4    1970935  Thomas (Jacob)        Sanders      M      Silberman   \n",
       "\n",
       "  Becton Program group      Testing Status   Birthdate Academic Program  \\\n",
       "0             non-stem         High Exempt  2002-11-14        BUAD4.MAD   \n",
       "1             non-stem  Required(No score)  2001-05-05        NCED2.MAD   \n",
       "2             non-stem              Exempt  2002-10-16        HTIE5.MAD   \n",
       "3                 Stem  Required(No score)  2002-03-04        HLTH3.MAD   \n",
       "4             non-stem            Required  2001-01-29   MGMT4.LEAD.MAD   \n",
       "\n",
       "                   Major Desc.  ... X Appl Camporg Desc   \\\n",
       "0      Business Administration  ...                  NaN   \n",
       "1          Exploring Education  ...                  NaN   \n",
       "2  Hosp & Tour Innov and Excel  ...                  NaN   \n",
       "3               Health Studies  ...                  NaN   \n",
       "4          Business Management  ...                  NaN   \n",
       "\n",
       "                  HS}GPA                     Addr Line 1       City State  \\\n",
       "0                  2.220  444 Mount Prospect Ave Apt 516     Newark    NJ   \n",
       "1  3.310, 4.000, , 4.000               36 New England Rd  Maplewood    NJ   \n",
       "2           3.980, 3.500          217 W Market St Apt 2B     Newark    NJ   \n",
       "3                  3.190                 39 Coventry Way   Ringwood    NJ   \n",
       "4                  2.880                131 Dunellen Ave   Dunellen    NJ   \n",
       "\n",
       "          Zip           Orientation Date Initial Email outreach   Voucher No  \\\n",
       "0  07104-2925                        NaN                6/29/21          NaN   \n",
       "1  07040-1057                        NaN               5/4/2021  EI-HPH5FM4T   \n",
       "2  07103-2732         Wednesday, July 14               5/4/2021          NaN   \n",
       "3  07456-2747  Monday, June 14 (Virtual)               4/5/2021          NaN   \n",
       "4  08812-1229         Wednesday, June 23               5/4/2021          NaN   \n",
       "\n",
       "         Branching Profile  \n",
       "0                      NaN  \n",
       "1  * Reading and Math 2021  \n",
       "2                      NaN  \n",
       "3                      NaN  \n",
       "4                      NaN  \n",
       "\n",
       "[5 rows x 50 columns]"
      ]
     },
     "execution_count": 3,
     "metadata": {},
     "output_type": "execute_result"
    }
   ],
   "source": [
    "df.head()"
   ]
  },
  {
   "cell_type": "markdown",
   "metadata": {
    "ExecuteTime": {
     "end_time": "2021-04-12T14:25:31.098451Z",
     "start_time": "2021-04-12T14:25:31.056461Z"
    }
   },
   "source": [
    "# Students check"
   ]
  },
  {
   "cell_type": "markdown",
   "metadata": {},
   "source": [
    "## Check for students who are required to test but submitted score or change in major "
   ]
  },
  {
   "cell_type": "code",
   "execution_count": 4,
   "metadata": {
    "ExecuteTime": {
     "end_time": "2021-06-29T15:12:59.478351Z",
     "start_time": "2021-06-29T15:12:59.467355Z"
    }
   },
   "outputs": [],
   "source": [
    "df_copy=df.copy()"
   ]
  },
  {
   "cell_type": "code",
   "execution_count": 5,
   "metadata": {
    "ExecuteTime": {
     "end_time": "2021-06-29T15:12:59.508341Z",
     "start_time": "2021-06-29T15:12:59.482350Z"
    }
   },
   "outputs": [
    {
     "data": {
      "text/plain": [
       "0     2021-06-29\n",
       "1     2021-06-28\n",
       "2     2021-06-28\n",
       "3     2021-06-28\n",
       "4     2021-06-28\n",
       "         ...    \n",
       "495   2020-12-21\n",
       "496   2020-12-18\n",
       "497   2020-12-18\n",
       "498   2020-12-16\n",
       "499   2020-12-14\n",
       "Name: Crnt Status Date, Length: 500, dtype: datetime64[ns]"
      ]
     },
     "execution_count": 5,
     "metadata": {},
     "output_type": "execute_result"
    }
   ],
   "source": [
    "pd.to_datetime(df_copy['Crnt Status Date'])\n",
    "#  pd.to_datetime(df_new['Crnt Status Date'], format='%m/%d/%Y')"
   ]
  },
  {
   "cell_type": "markdown",
   "metadata": {},
   "source": [
    "## Students who are initially required to test math but change of status "
   ]
  },
  {
   "cell_type": "code",
   "execution_count": 6,
   "metadata": {
    "ExecuteTime": {
     "end_time": "2021-06-29T15:12:59.553326Z",
     "start_time": "2021-06-29T15:12:59.512340Z"
    }
   },
   "outputs": [
    {
     "data": {
      "text/html": [
       "<div>\n",
       "<style scoped>\n",
       "    .dataframe tbody tr th:only-of-type {\n",
       "        vertical-align: middle;\n",
       "    }\n",
       "\n",
       "    .dataframe tbody tr th {\n",
       "        vertical-align: top;\n",
       "    }\n",
       "\n",
       "    .dataframe thead th {\n",
       "        text-align: right;\n",
       "    }\n",
       "</style>\n",
       "<table border=\"1\" class=\"dataframe\">\n",
       "  <thead>\n",
       "    <tr style=\"text-align: right;\">\n",
       "      <th></th>\n",
       "      <th>Applicant</th>\n",
       "      <th>Appl First Name</th>\n",
       "      <th>Appl Last Name</th>\n",
       "      <th>Academic Program</th>\n",
       "      <th>Major Desc.</th>\n",
       "      <th>Testing Status</th>\n",
       "      <th>Crnt Status Date</th>\n",
       "      <th>X Appl Satmr List</th>\n",
       "      <th>Fdu Actm</th>\n",
       "      <th>Branching Profile</th>\n",
       "    </tr>\n",
       "  </thead>\n",
       "  <tbody>\n",
       "  </tbody>\n",
       "</table>\n",
       "</div>"
      ],
      "text/plain": [
       "Empty DataFrame\n",
       "Columns: [Applicant, Appl First Name, Appl Last Name, Academic Program, Major Desc., Testing Status, Crnt Status Date, X Appl Satmr List , Fdu Actm , Branching Profile]\n",
       "Index: []"
      ]
     },
     "execution_count": 6,
     "metadata": {},
     "output_type": "execute_result"
    }
   ],
   "source": [
    "\n",
    "exempt_status = ['High Exempt','Low Exempt','Exempt']\n",
    "filter1 = df_copy.loc[(df_copy['Testing Status'].isin(exempt_status) & \n",
    "                            (df_copy['Branching Profile']=='* Reading and Math 2021'))]\n",
    "\n",
    "filter1[['Applicant','Appl First Name','Appl Last Name',\n",
    "          'Academic Program','Major Desc.','Testing Status','Crnt Status Date',\n",
    "         'X Appl Satmr List ','Fdu Actm ','Branching Profile']]"
   ]
  },
  {
   "cell_type": "markdown",
   "metadata": {},
   "source": [
    "## Students who were initially required to test Reading only but now Math as well "
   ]
  },
  {
   "cell_type": "code",
   "execution_count": 7,
   "metadata": {
    "ExecuteTime": {
     "end_time": "2021-06-29T15:12:59.598311Z",
     "start_time": "2021-06-29T15:12:59.556326Z"
    }
   },
   "outputs": [
    {
     "data": {
      "text/html": [
       "<div>\n",
       "<style scoped>\n",
       "    .dataframe tbody tr th:only-of-type {\n",
       "        vertical-align: middle;\n",
       "    }\n",
       "\n",
       "    .dataframe tbody tr th {\n",
       "        vertical-align: top;\n",
       "    }\n",
       "\n",
       "    .dataframe thead th {\n",
       "        text-align: right;\n",
       "    }\n",
       "</style>\n",
       "<table border=\"1\" class=\"dataframe\">\n",
       "  <thead>\n",
       "    <tr style=\"text-align: right;\">\n",
       "      <th></th>\n",
       "      <th>Appl First Name</th>\n",
       "      <th>Appl Last Name</th>\n",
       "      <th>Academic Program</th>\n",
       "      <th>Major Desc.</th>\n",
       "      <th>Testing Status</th>\n",
       "      <th>Crnt Status Date</th>\n",
       "      <th>X Appl Satmr List</th>\n",
       "      <th>Fdu Actm</th>\n",
       "      <th>Branching Profile</th>\n",
       "    </tr>\n",
       "    <tr>\n",
       "      <th>Applicant</th>\n",
       "      <th></th>\n",
       "      <th></th>\n",
       "      <th></th>\n",
       "      <th></th>\n",
       "      <th></th>\n",
       "      <th></th>\n",
       "      <th></th>\n",
       "      <th></th>\n",
       "      <th></th>\n",
       "    </tr>\n",
       "  </thead>\n",
       "  <tbody>\n",
       "  </tbody>\n",
       "</table>\n",
       "</div>"
      ],
      "text/plain": [
       "Empty DataFrame\n",
       "Columns: [Appl First Name, Appl Last Name, Academic Program, Major Desc., Testing Status, Crnt Status Date, X Appl Satmr List , Fdu Actm , Branching Profile]\n",
       "Index: []"
      ]
     },
     "execution_count": 7,
     "metadata": {},
     "output_type": "execute_result"
    }
   ],
   "source": [
    "\n",
    "filter2 = df_copy.loc[(~df_copy['Testing Status'].isin(exempt_status) & \n",
    "                            (df_copy['Branching Profile']=='* Reading Comprehension 2021'))]\n",
    "\n",
    "filter2[['Applicant','Appl First Name','Appl Last Name',\n",
    "          'Academic Program','Major Desc.','Testing Status','Crnt Status Date',\n",
    "         'X Appl Satmr List ','Fdu Actm ','Branching Profile']].set_index('Applicant')"
   ]
  },
  {
   "cell_type": "markdown",
   "metadata": {},
   "source": [
    "# Examity Merge scheduled students "
   ]
  },
  {
   "cell_type": "code",
   "execution_count": 8,
   "metadata": {
    "ExecuteTime": {
     "end_time": "2021-06-29T15:12:59.673287Z",
     "start_time": "2021-06-29T15:12:59.604309Z"
    }
   },
   "outputs": [],
   "source": [
    "df_examity = pd.read_csv('examity.csv',encoding= 'unicode_escape')\n",
    "df_examity.rename(columns={'Student First Name':'Appl First Name','Student Last Name':'Appl Last Name','Status':'Placement assessment status'},inplace=True)\n",
    "df_examity['Appl First Name'] = df_examity['Appl First Name'].str.title()\n",
    "df_examity['Appl Last Name'] = df_examity['Appl Last Name'].str.title()\n",
    "df = pd.merge(df, df_examity[['Appl First Name','Appl Last Name','Appointment Date [EST]','Placement assessment status']], on =['Appl First Name','Appl Last Name'],how='left')\n"
   ]
  },
  {
   "cell_type": "code",
   "execution_count": 9,
   "metadata": {
    "ExecuteTime": {
     "end_time": "2021-06-29T15:12:59.689282Z",
     "start_time": "2021-06-29T15:12:59.678285Z"
    }
   },
   "outputs": [],
   "source": [
    "# df.loc[df['Placement assessment status']=='Scheduled']"
   ]
  },
  {
   "cell_type": "code",
   "execution_count": 10,
   "metadata": {
    "ExecuteTime": {
     "end_time": "2021-06-29T15:12:59.719272Z",
     "start_time": "2021-06-29T15:12:59.693281Z"
    }
   },
   "outputs": [],
   "source": [
    "#  df.info()"
   ]
  },
  {
   "cell_type": "markdown",
   "metadata": {
    "ExecuteTime": {
     "end_time": "2021-05-04T16:43:54.354465Z",
     "start_time": "2021-05-04T16:43:54.342468Z"
    }
   },
   "source": [
    "# Students check"
   ]
  },
  {
   "cell_type": "markdown",
   "metadata": {},
   "source": [
    "## Students who are required to take math but havent "
   ]
  },
  {
   "cell_type": "code",
   "execution_count": 11,
   "metadata": {
    "ExecuteTime": {
     "end_time": "2021-06-29T15:12:59.749262Z",
     "start_time": "2021-06-29T15:12:59.723270Z"
    }
   },
   "outputs": [],
   "source": [
    "required_test = ['Required(No score)','Required']\n",
    "df.loc[(df['Testing Status'].isin(required_test)) & #students who are required to test for math\n",
    "       (df['Fdu Mqas '].isna()) & #no math scores or scheduled\n",
    "       (df['Placement assessment status'].isna()),'Placement assessment status'] = 'Incomplete'"
   ]
  },
  {
   "cell_type": "markdown",
   "metadata": {},
   "source": [
    "## Students whoare required to do reading only but havent"
   ]
  },
  {
   "cell_type": "code",
   "execution_count": 12,
   "metadata": {
    "ExecuteTime": {
     "end_time": "2021-06-29T15:12:59.780253Z",
     "start_time": "2021-06-29T15:12:59.752261Z"
    }
   },
   "outputs": [],
   "source": [
    "Exempt = ['High Exempt','Low Exempt']\n",
    "df.loc[(df['Testing Status'].isin(Exempt)) & #students who are required to test for reading\n",
    "       (df['Xappl Fdu Mread Score '].isna()) & #no reading scores or scheduled\n",
    "       (df['Placement assessment status'].isna()),'Placement assessment status'] = 'Incomplete'"
   ]
  },
  {
   "cell_type": "markdown",
   "metadata": {},
   "source": [
    "## Students who are required to do reading and math but did only reading "
   ]
  },
  {
   "cell_type": "code",
   "execution_count": 13,
   "metadata": {
    "ExecuteTime": {
     "end_time": "2021-06-29T15:12:59.825237Z",
     "start_time": "2021-06-29T15:12:59.784251Z"
    }
   },
   "outputs": [],
   "source": [
    "required_test = ['Required(No score)','Required']\n",
    "df.loc[(df['Testing Status'].isin(required_test)) & #students who are required to test for math\n",
    "       (df['Fdu Mqas '].isna()) & #no math scores or scheduled\n",
    "       (df['Xappl Fdu Mread Score '].notnull()),'Placement assessment status'] = 'Math Pending'"
   ]
  },
  {
   "cell_type": "code",
   "execution_count": 14,
   "metadata": {
    "ExecuteTime": {
     "end_time": "2021-06-29T15:12:59.888217Z",
     "start_time": "2021-06-29T15:12:59.829236Z"
    }
   },
   "outputs": [
    {
     "data": {
      "text/html": [
       "<div>\n",
       "<style scoped>\n",
       "    .dataframe tbody tr th:only-of-type {\n",
       "        vertical-align: middle;\n",
       "    }\n",
       "\n",
       "    .dataframe tbody tr th {\n",
       "        vertical-align: top;\n",
       "    }\n",
       "\n",
       "    .dataframe thead th {\n",
       "        text-align: right;\n",
       "    }\n",
       "</style>\n",
       "<table border=\"1\" class=\"dataframe\">\n",
       "  <thead>\n",
       "    <tr style=\"text-align: right;\">\n",
       "      <th></th>\n",
       "      <th>Applicant</th>\n",
       "      <th>Appl First Name</th>\n",
       "      <th>Appl Last Name</th>\n",
       "      <th>Gender</th>\n",
       "      <th>College</th>\n",
       "      <th>Becton Program group</th>\n",
       "      <th>Testing Status</th>\n",
       "      <th>Birthdate</th>\n",
       "      <th>Academic Program</th>\n",
       "      <th>Major Desc.</th>\n",
       "      <th>...</th>\n",
       "      <th>Addr Line 1</th>\n",
       "      <th>City</th>\n",
       "      <th>State</th>\n",
       "      <th>Zip</th>\n",
       "      <th>Orientation Date</th>\n",
       "      <th>Initial Email outreach</th>\n",
       "      <th>Voucher No</th>\n",
       "      <th>Branching Profile</th>\n",
       "      <th>Appointment Date [EST]</th>\n",
       "      <th>Placement assessment status</th>\n",
       "    </tr>\n",
       "  </thead>\n",
       "  <tbody>\n",
       "  </tbody>\n",
       "</table>\n",
       "<p>0 rows × 52 columns</p>\n",
       "</div>"
      ],
      "text/plain": [
       "Empty DataFrame\n",
       "Columns: [Applicant, Appl First Name, Appl Last Name, Gender, College, Becton Program group, Testing Status, Birthdate, Academic Program, Major Desc., Current Status, Crnt Status Date, Admit Status, Housing Desired Flag, X Nn Res Flag Desc , X Es Home Phone , Link to Person STU CELL NO, Link to Person X Per Cell Ph, Int Email, FDU E-Mail Address, X Appl Satvr List , X Appl Satmr List , X Appl Tot Sat , ACTC SCORE, Fdu Actm , Fdu Actr , Fdu Acts , Fdu Acte , Fdu Mqas , Xappl First Mqas Date , Fdu Maaf , Xappl First Maaf Date , Fdu Mqas2 , Xappl Second Mqas Date , Fdu Maaf2 , Xappl Second Maaf Date , Xappl Fdu Mread Score , Xappl First Mread Date , SP SERV, X App Misc1 , X Appl Camporg Desc , HS}GPA, Addr Line 1, City, State, Zip, Orientation Date, Initial Email outreach, Voucher No, Branching Profile, Appointment Date [EST], Placement assessment status]\n",
       "Index: []\n",
       "\n",
       "[0 rows x 52 columns]"
      ]
     },
     "execution_count": 14,
     "metadata": {},
     "output_type": "execute_result"
    }
   ],
   "source": [
    "df.loc[df['Placement assessment status']=='Math Pending']"
   ]
  },
  {
   "cell_type": "markdown",
   "metadata": {},
   "source": [
    "## Voucher check "
   ]
  },
  {
   "cell_type": "code",
   "execution_count": 15,
   "metadata": {
    "ExecuteTime": {
     "end_time": "2021-06-29T15:12:59.932202Z",
     "start_time": "2021-06-29T15:12:59.892215Z"
    }
   },
   "outputs": [
    {
     "data": {
      "text/html": [
       "<div>\n",
       "<style scoped>\n",
       "    .dataframe tbody tr th:only-of-type {\n",
       "        vertical-align: middle;\n",
       "    }\n",
       "\n",
       "    .dataframe tbody tr th {\n",
       "        vertical-align: top;\n",
       "    }\n",
       "\n",
       "    .dataframe thead th {\n",
       "        text-align: right;\n",
       "    }\n",
       "</style>\n",
       "<table border=\"1\" class=\"dataframe\">\n",
       "  <thead>\n",
       "    <tr style=\"text-align: right;\">\n",
       "      <th></th>\n",
       "      <th>Applicant</th>\n",
       "      <th>Appl First Name</th>\n",
       "      <th>Appl Last Name</th>\n",
       "      <th>Gender</th>\n",
       "      <th>College</th>\n",
       "      <th>Becton Program group</th>\n",
       "      <th>Testing Status</th>\n",
       "      <th>Birthdate</th>\n",
       "      <th>Academic Program</th>\n",
       "      <th>Major Desc.</th>\n",
       "      <th>...</th>\n",
       "      <th>Addr Line 1</th>\n",
       "      <th>City</th>\n",
       "      <th>State</th>\n",
       "      <th>Zip</th>\n",
       "      <th>Orientation Date</th>\n",
       "      <th>Initial Email outreach</th>\n",
       "      <th>Voucher No</th>\n",
       "      <th>Branching Profile</th>\n",
       "      <th>Appointment Date [EST]</th>\n",
       "      <th>Placement assessment status</th>\n",
       "    </tr>\n",
       "  </thead>\n",
       "  <tbody>\n",
       "  </tbody>\n",
       "</table>\n",
       "<p>0 rows × 52 columns</p>\n",
       "</div>"
      ],
      "text/plain": [
       "Empty DataFrame\n",
       "Columns: [Applicant, Appl First Name, Appl Last Name, Gender, College, Becton Program group, Testing Status, Birthdate, Academic Program, Major Desc., Current Status, Crnt Status Date, Admit Status, Housing Desired Flag, X Nn Res Flag Desc , X Es Home Phone , Link to Person STU CELL NO, Link to Person X Per Cell Ph, Int Email, FDU E-Mail Address, X Appl Satvr List , X Appl Satmr List , X Appl Tot Sat , ACTC SCORE, Fdu Actm , Fdu Actr , Fdu Acts , Fdu Acte , Fdu Mqas , Xappl First Mqas Date , Fdu Maaf , Xappl First Maaf Date , Fdu Mqas2 , Xappl Second Mqas Date , Fdu Maaf2 , Xappl Second Maaf Date , Xappl Fdu Mread Score , Xappl First Mread Date , SP SERV, X App Misc1 , X Appl Camporg Desc , HS}GPA, Addr Line 1, City, State, Zip, Orientation Date, Initial Email outreach, Voucher No, Branching Profile, Appointment Date [EST], Placement assessment status]\n",
       "Index: []\n",
       "\n",
       "[0 rows x 52 columns]"
      ]
     },
     "execution_count": 15,
     "metadata": {},
     "output_type": "execute_result"
    }
   ],
   "source": [
    "df.loc[(df['Testing Status'].isin(required_test)) & #students who are required to test for math\n",
    "       (df['Branching Profile']!= '* Reading and Math 2021')&\n",
    "      (df['Branching Profile'].notnull())] #no math scores or scheduled\n",
    "       "
   ]
  },
  {
   "cell_type": "code",
   "execution_count": 16,
   "metadata": {
    "ExecuteTime": {
     "end_time": "2021-06-29T15:13:00.007178Z",
     "start_time": "2021-06-29T15:12:59.936201Z"
    }
   },
   "outputs": [
    {
     "data": {
      "text/html": [
       "<div>\n",
       "<style scoped>\n",
       "    .dataframe tbody tr th:only-of-type {\n",
       "        vertical-align: middle;\n",
       "    }\n",
       "\n",
       "    .dataframe tbody tr th {\n",
       "        vertical-align: top;\n",
       "    }\n",
       "\n",
       "    .dataframe thead th {\n",
       "        text-align: right;\n",
       "    }\n",
       "</style>\n",
       "<table border=\"1\" class=\"dataframe\">\n",
       "  <thead>\n",
       "    <tr style=\"text-align: right;\">\n",
       "      <th></th>\n",
       "      <th>Applicant</th>\n",
       "      <th>Appl First Name</th>\n",
       "      <th>Appl Last Name</th>\n",
       "      <th>Gender</th>\n",
       "      <th>College</th>\n",
       "      <th>Becton Program group</th>\n",
       "      <th>Testing Status</th>\n",
       "      <th>Birthdate</th>\n",
       "      <th>Academic Program</th>\n",
       "      <th>Major Desc.</th>\n",
       "      <th>...</th>\n",
       "      <th>Addr Line 1</th>\n",
       "      <th>City</th>\n",
       "      <th>State</th>\n",
       "      <th>Zip</th>\n",
       "      <th>Orientation Date</th>\n",
       "      <th>Initial Email outreach</th>\n",
       "      <th>Voucher No</th>\n",
       "      <th>Branching Profile</th>\n",
       "      <th>Appointment Date [EST]</th>\n",
       "      <th>Placement assessment status</th>\n",
       "    </tr>\n",
       "  </thead>\n",
       "  <tbody>\n",
       "  </tbody>\n",
       "</table>\n",
       "<p>0 rows × 52 columns</p>\n",
       "</div>"
      ],
      "text/plain": [
       "Empty DataFrame\n",
       "Columns: [Applicant, Appl First Name, Appl Last Name, Gender, College, Becton Program group, Testing Status, Birthdate, Academic Program, Major Desc., Current Status, Crnt Status Date, Admit Status, Housing Desired Flag, X Nn Res Flag Desc , X Es Home Phone , Link to Person STU CELL NO, Link to Person X Per Cell Ph, Int Email, FDU E-Mail Address, X Appl Satvr List , X Appl Satmr List , X Appl Tot Sat , ACTC SCORE, Fdu Actm , Fdu Actr , Fdu Acts , Fdu Acte , Fdu Mqas , Xappl First Mqas Date , Fdu Maaf , Xappl First Maaf Date , Fdu Mqas2 , Xappl Second Mqas Date , Fdu Maaf2 , Xappl Second Maaf Date , Xappl Fdu Mread Score , Xappl First Mread Date , SP SERV, X App Misc1 , X Appl Camporg Desc , HS}GPA, Addr Line 1, City, State, Zip, Orientation Date, Initial Email outreach, Voucher No, Branching Profile, Appointment Date [EST], Placement assessment status]\n",
       "Index: []\n",
       "\n",
       "[0 rows x 52 columns]"
      ]
     },
     "execution_count": 16,
     "metadata": {},
     "output_type": "execute_result"
    }
   ],
   "source": [
    "df.loc[(df['Testing Status'].isin(Exempt)) & #students who are exempt from math\n",
    "       (df['Branching Profile']!= '* Reading Comprehension 2021')&\n",
    "      (df['Branching Profile'].notnull())] #no math scores or scheduled"
   ]
  },
  {
   "cell_type": "markdown",
   "metadata": {},
   "source": [
    "## STudents who have completed the assessment"
   ]
  },
  {
   "cell_type": "code",
   "execution_count": 17,
   "metadata": {
    "ExecuteTime": {
     "end_time": "2021-06-29T15:13:00.023172Z",
     "start_time": "2021-06-29T15:13:00.014176Z"
    }
   },
   "outputs": [],
   "source": [
    "df['Placement assessment status'].fillna('Completed',inplace = True)"
   ]
  },
  {
   "cell_type": "markdown",
   "metadata": {},
   "source": [
    "## Check to see if any students dont have a testing status"
   ]
  },
  {
   "cell_type": "code",
   "execution_count": 18,
   "metadata": {
    "ExecuteTime": {
     "end_time": "2021-06-29T15:13:00.038167Z",
     "start_time": "2021-06-29T15:13:00.027171Z"
    }
   },
   "outputs": [
    {
     "data": {
      "text/plain": [
       "0"
      ]
     },
     "execution_count": 18,
     "metadata": {},
     "output_type": "execute_result"
    }
   ],
   "source": [
    "df['Testing Status'].isna().sum()"
   ]
  },
  {
   "cell_type": "code",
   "execution_count": 19,
   "metadata": {
    "ExecuteTime": {
     "end_time": "2021-06-29T15:13:00.068158Z",
     "start_time": "2021-06-29T15:13:00.042166Z"
    }
   },
   "outputs": [
    {
     "data": {
      "text/plain": [
       "Completed     470\n",
       "Incomplete     29\n",
       "Scheduled       1\n",
       "Name: Placement assessment status, dtype: int64"
      ]
     },
     "execution_count": 19,
     "metadata": {},
     "output_type": "execute_result"
    }
   ],
   "source": [
    "df['Placement assessment status'].value_counts()"
   ]
  },
  {
   "cell_type": "markdown",
   "metadata": {},
   "source": [
    "## STudents who have completed but not video review pending"
   ]
  },
  {
   "cell_type": "code",
   "execution_count": 20,
   "metadata": {
    "ExecuteTime": {
     "end_time": "2021-06-29T15:13:00.084152Z",
     "start_time": "2021-06-29T15:13:00.071157Z"
    }
   },
   "outputs": [],
   "source": [
    "# students who are marked incomplete\n",
    "incomplete_list = list(df.loc[df['Placement assessment status']=='Incomplete']['Applicant'])\n"
   ]
  },
  {
   "cell_type": "code",
   "execution_count": 21,
   "metadata": {
    "ExecuteTime": {
     "end_time": "2021-06-29T15:13:00.143134Z",
     "start_time": "2021-06-29T15:13:00.099147Z"
    }
   },
   "outputs": [
    {
     "data": {
      "text/plain": [
       "488"
      ]
     },
     "execution_count": 21,
     "metadata": {},
     "output_type": "execute_result"
    }
   ],
   "source": [
    "#Accuplacer report of completed students\n",
    "df_Accuplacer_completed = pd.read_csv('Accuplacer_completed.csv')\n",
    "df_Accuplacer_completed.rename(columns={'Student ID':'Applicant'},inplace=True)\n",
    "Accuplacer_completed_list = df_Accuplacer_completed['Applicant']\n",
    "len(set(Accuplacer_completed_list))"
   ]
  },
  {
   "cell_type": "code",
   "execution_count": 22,
   "metadata": {
    "ExecuteTime": {
     "end_time": "2021-06-29T15:13:00.190117Z",
     "start_time": "2021-06-29T15:13:00.147132Z"
    }
   },
   "outputs": [
    {
     "data": {
      "text/html": [
       "<div>\n",
       "<style scoped>\n",
       "    .dataframe tbody tr th:only-of-type {\n",
       "        vertical-align: middle;\n",
       "    }\n",
       "\n",
       "    .dataframe tbody tr th {\n",
       "        vertical-align: top;\n",
       "    }\n",
       "\n",
       "    .dataframe thead th {\n",
       "        text-align: right;\n",
       "    }\n",
       "</style>\n",
       "<table border=\"1\" class=\"dataframe\">\n",
       "  <thead>\n",
       "    <tr style=\"text-align: right;\">\n",
       "      <th></th>\n",
       "      <th>Applicant</th>\n",
       "      <th>Birth Date</th>\n",
       "      <th>Exnum</th>\n",
       "      <th>First Name</th>\n",
       "      <th>Last Name</th>\n",
       "      <th>Proctor Name</th>\n",
       "      <th>Next-Generation Reading</th>\n",
       "      <th>Next-Generation Quantitative Reasoning, Algebra, and Statistics</th>\n",
       "      <th>Next-Generation Advanced Algebra and Functions</th>\n",
       "      <th>Test End</th>\n",
       "      <th>Unnamed: 10</th>\n",
       "    </tr>\n",
       "  </thead>\n",
       "  <tbody>\n",
       "    <tr>\n",
       "      <th>0</th>\n",
       "      <td>123457</td>\n",
       "      <td>01-01-1998</td>\n",
       "      <td>37832593</td>\n",
       "      <td>Sachin</td>\n",
       "      <td>Naik</td>\n",
       "      <td>Lisa Martini</td>\n",
       "      <td>NaN</td>\n",
       "      <td>NaN</td>\n",
       "      <td>NaN</td>\n",
       "      <td>06-04-2021</td>\n",
       "      <td>NaN</td>\n",
       "    </tr>\n",
       "    <tr>\n",
       "      <th>1</th>\n",
       "      <td>1341567</td>\n",
       "      <td>01-01-1999</td>\n",
       "      <td>37868717</td>\n",
       "      <td>Lauren</td>\n",
       "      <td>Mazur</td>\n",
       "      <td>Darshan Shah</td>\n",
       "      <td>NaN</td>\n",
       "      <td>NaN</td>\n",
       "      <td>NaN</td>\n",
       "      <td>06-10-2021</td>\n",
       "      <td>NaN</td>\n",
       "    </tr>\n",
       "    <tr>\n",
       "      <th>226</th>\n",
       "      <td>1988292</td>\n",
       "      <td>04-04-2003</td>\n",
       "      <td>37642864</td>\n",
       "      <td>Brian</td>\n",
       "      <td>McGovern</td>\n",
       "      <td>Lisa Martini</td>\n",
       "      <td>NaN</td>\n",
       "      <td>NaN</td>\n",
       "      <td>NaN</td>\n",
       "      <td>05-09-2021</td>\n",
       "      <td>NaN</td>\n",
       "    </tr>\n",
       "    <tr>\n",
       "      <th>423</th>\n",
       "      <td>1990178</td>\n",
       "      <td>12-10-2002</td>\n",
       "      <td>37881211</td>\n",
       "      <td>Naia</td>\n",
       "      <td>McGinn</td>\n",
       "      <td>Lisa Martini</td>\n",
       "      <td>NaN</td>\n",
       "      <td>NaN</td>\n",
       "      <td>NaN</td>\n",
       "      <td>06-14-2021</td>\n",
       "      <td>NaN</td>\n",
       "    </tr>\n",
       "  </tbody>\n",
       "</table>\n",
       "</div>"
      ],
      "text/plain": [
       "     Applicant  Birth Date     Exnum First Name Last Name  Proctor Name  \\\n",
       "0       123457  01-01-1998  37832593     Sachin      Naik  Lisa Martini   \n",
       "1      1341567  01-01-1999  37868717     Lauren     Mazur  Darshan Shah   \n",
       "226    1988292  04-04-2003  37642864      Brian  McGovern  Lisa Martini   \n",
       "423    1990178  12-10-2002  37881211       Naia    McGinn  Lisa Martini   \n",
       "\n",
       "     Next-Generation Reading  \\\n",
       "0                        NaN   \n",
       "1                        NaN   \n",
       "226                      NaN   \n",
       "423                      NaN   \n",
       "\n",
       "     Next-Generation Quantitative Reasoning, Algebra, and Statistics  \\\n",
       "0                                                  NaN                 \n",
       "1                                                  NaN                 \n",
       "226                                                NaN                 \n",
       "423                                                NaN                 \n",
       "\n",
       "     Next-Generation Advanced Algebra and Functions    Test End  Unnamed: 10  \n",
       "0                                               NaN  06-04-2021          NaN  \n",
       "1                                               NaN  06-10-2021          NaN  \n",
       "226                                             NaN  05-09-2021          NaN  \n",
       "423                                             NaN  06-14-2021          NaN  "
      ]
     },
     "execution_count": 22,
     "metadata": {},
     "output_type": "execute_result"
    }
   ],
   "source": [
    "df_No_score_applicant = df_Accuplacer_completed.loc[df_Accuplacer_completed['Next-Generation Reading'].isna() &\n",
    "                           df_Accuplacer_completed['Next-Generation Quantitative Reasoning, Algebra, and Statistics'].isna()&\n",
    "                           df_Accuplacer_completed['Next-Generation Advanced Algebra and Functions'].isna()]\n",
    "df_No_score_applicant.head()"
   ]
  },
  {
   "cell_type": "code",
   "execution_count": 23,
   "metadata": {
    "ExecuteTime": {
     "end_time": "2021-06-29T15:13:00.221107Z",
     "start_time": "2021-06-29T15:13:00.200114Z"
    }
   },
   "outputs": [
    {
     "data": {
      "text/plain": [
       "4"
      ]
     },
     "execution_count": 23,
     "metadata": {},
     "output_type": "execute_result"
    }
   ],
   "source": [
    "No_score_applicants_list = list(df_No_score_applicant['Applicant'])\n",
    "len(No_score_applicants_list)"
   ]
  },
  {
   "cell_type": "code",
   "execution_count": 24,
   "metadata": {
    "ExecuteTime": {
     "end_time": "2021-06-29T15:13:00.251097Z",
     "start_time": "2021-06-29T15:13:00.239101Z"
    }
   },
   "outputs": [
    {
     "data": {
      "text/plain": [
       "484"
      ]
     },
     "execution_count": 24,
     "metadata": {},
     "output_type": "execute_result"
    }
   ],
   "source": [
    "Accuplacer_completed_list = list (set(Accuplacer_completed_list) - set(No_score_applicants_list))\n",
    "len(Accuplacer_completed_list)"
   ]
  },
  {
   "cell_type": "code",
   "execution_count": 25,
   "metadata": {
    "ExecuteTime": {
     "end_time": "2021-06-29T15:13:00.281087Z",
     "start_time": "2021-06-29T15:13:00.255095Z"
    }
   },
   "outputs": [
    {
     "data": {
      "text/plain": [
       "1"
      ]
     },
     "execution_count": 25,
     "metadata": {},
     "output_type": "execute_result"
    }
   ],
   "source": [
    "Pending_list = list(set(Accuplacer_completed_list) & set(incomplete_list))\n",
    "len(Pending_list)"
   ]
  },
  {
   "cell_type": "code",
   "execution_count": 26,
   "metadata": {
    "ExecuteTime": {
     "end_time": "2021-06-29T15:13:00.296083Z",
     "start_time": "2021-06-29T15:13:00.284086Z"
    }
   },
   "outputs": [],
   "source": [
    "df.loc[df['Applicant'].isin(Pending_list),'Placement assessment status'] = 'Pending'"
   ]
  },
  {
   "cell_type": "code",
   "execution_count": 27,
   "metadata": {
    "ExecuteTime": {
     "end_time": "2021-06-29T15:13:00.327073Z",
     "start_time": "2021-06-29T15:13:00.301081Z"
    }
   },
   "outputs": [
    {
     "data": {
      "text/plain": [
       "Completed     470\n",
       "Incomplete     28\n",
       "Pending         1\n",
       "Scheduled       1\n",
       "Name: Placement assessment status, dtype: int64"
      ]
     },
     "execution_count": 27,
     "metadata": {},
     "output_type": "execute_result"
    }
   ],
   "source": [
    "df['Placement assessment status'].value_counts()"
   ]
  },
  {
   "cell_type": "code",
   "execution_count": 28,
   "metadata": {
    "ExecuteTime": {
     "end_time": "2021-06-29T15:13:00.372058Z",
     "start_time": "2021-06-29T15:13:00.331071Z"
    }
   },
   "outputs": [],
   "source": [
    "df.to_csv('FALL 2021 Placement Freshmen list post ACCUPLACERexamity_june29.csv',index =False)"
   ]
  },
  {
   "cell_type": "code",
   "execution_count": 29,
   "metadata": {
    "ExecuteTime": {
     "end_time": "2021-06-29T15:13:00.419041Z",
     "start_time": "2021-06-29T15:13:00.376057Z"
    }
   },
   "outputs": [
    {
     "name": "stdout",
     "output_type": "stream",
     "text": [
      "<class 'pandas.core.frame.DataFrame'>\n",
      "Int64Index: 500 entries, 0 to 499\n",
      "Data columns (total 52 columns):\n",
      " #   Column                        Non-Null Count  Dtype  \n",
      "---  ------                        --------------  -----  \n",
      " 0   Applicant                     500 non-null    int64  \n",
      " 1   Appl First Name               500 non-null    object \n",
      " 2   Appl Last Name                500 non-null    object \n",
      " 3   Gender                        500 non-null    object \n",
      " 4   College                       500 non-null    object \n",
      " 5   Becton Program group          500 non-null    object \n",
      " 6   Testing Status                500 non-null    object \n",
      " 7   Birthdate                     500 non-null    object \n",
      " 8   Academic Program              500 non-null    object \n",
      " 9   Major Desc.                   500 non-null    object \n",
      " 10  Current Status                500 non-null    object \n",
      " 11  Crnt Status Date              500 non-null    object \n",
      " 12  Admit Status                  500 non-null    object \n",
      " 13  Housing Desired Flag          500 non-null    object \n",
      " 14  X Nn Res Flag Desc            500 non-null    object \n",
      " 15  X Es Home Phone               341 non-null    object \n",
      " 16  Link to Person STU CELL NO    500 non-null    object \n",
      " 17  Link to Person X Per Cell Ph  424 non-null    object \n",
      " 18  Int Email                     499 non-null    object \n",
      " 19  FDU E-Mail Address            500 non-null    object \n",
      " 20  X Appl Satvr List             500 non-null    int64  \n",
      " 21  X Appl Satmr List             500 non-null    int64  \n",
      " 22  X Appl Tot Sat                500 non-null    int64  \n",
      " 23  ACTC SCORE                    11 non-null     float64\n",
      " 24  Fdu Actm                      500 non-null    float64\n",
      " 25  Fdu Actr                      11 non-null     float64\n",
      " 26  Fdu Acts                      10 non-null     float64\n",
      " 27  Fdu Acte                      10 non-null     float64\n",
      " 28  Fdu Mqas                      396 non-null    float64\n",
      " 29  Xappl First Mqas Date         396 non-null    object \n",
      " 30  Fdu Maaf                      130 non-null    float64\n",
      " 31  Xappl First Maaf Date         130 non-null    object \n",
      " 32  Fdu Mqas2                     0 non-null      float64\n",
      " 33  Xappl Second Mqas Date        0 non-null      float64\n",
      " 34  Fdu Maaf2                     0 non-null      float64\n",
      " 35  Xappl Second Maaf Date        0 non-null      float64\n",
      " 36  Xappl Fdu Mread Score         466 non-null    float64\n",
      " 37  Xappl First Mread Date        466 non-null    object \n",
      " 38  SP SERV                       60 non-null     object \n",
      " 39  X App Misc1                   66 non-null     object \n",
      " 40  X Appl Camporg Desc           55 non-null     object \n",
      " 41  HS}GPA                        500 non-null    object \n",
      " 42  Addr Line 1                   500 non-null    object \n",
      " 43  City                          500 non-null    object \n",
      " 44  State                         499 non-null    object \n",
      " 45  Zip                           499 non-null    object \n",
      " 46  Orientation Date              373 non-null    object \n",
      " 47  Initial Email outreach        500 non-null    object \n",
      " 48  Voucher No                    29 non-null     object \n",
      " 49  Branching Profile             29 non-null     object \n",
      " 50  Appointment Date [EST]        1 non-null      object \n",
      " 51  Placement assessment status   500 non-null    object \n",
      "dtypes: float64(12), int64(4), object(36)\n",
      "memory usage: 207.0+ KB\n"
     ]
    }
   ],
   "source": [
    "df.info()"
   ]
  },
  {
   "cell_type": "code",
   "execution_count": null,
   "metadata": {},
   "outputs": [],
   "source": []
  }
 ],
 "metadata": {
  "kernelspec": {
   "display_name": "Python [conda env:learn-env] *",
   "language": "python",
   "name": "conda-env-learn-env-py"
  },
  "language_info": {
   "codemirror_mode": {
    "name": "ipython",
    "version": 3
   },
   "file_extension": ".py",
   "mimetype": "text/x-python",
   "name": "python",
   "nbconvert_exporter": "python",
   "pygments_lexer": "ipython3",
   "version": "3.6.12"
  },
  "toc": {
   "base_numbering": 1,
   "nav_menu": {},
   "number_sections": true,
   "sideBar": true,
   "skip_h1_title": false,
   "title_cell": "Table of Contents",
   "title_sidebar": "Contents",
   "toc_cell": false,
   "toc_position": {
    "height": "calc(100% - 180px)",
    "left": "10px",
    "top": "150px",
    "width": "165px"
   },
   "toc_section_display": true,
   "toc_window_display": false
  },
  "varInspector": {
   "cols": {
    "lenName": 16,
    "lenType": 16,
    "lenVar": 40
   },
   "kernels_config": {
    "python": {
     "delete_cmd_postfix": "",
     "delete_cmd_prefix": "del ",
     "library": "var_list.py",
     "varRefreshCmd": "print(var_dic_list())"
    },
    "r": {
     "delete_cmd_postfix": ") ",
     "delete_cmd_prefix": "rm(",
     "library": "var_list.r",
     "varRefreshCmd": "cat(var_dic_list()) "
    }
   },
   "types_to_exclude": [
    "module",
    "function",
    "builtin_function_or_method",
    "instance",
    "_Feature"
   ],
   "window_display": false
  }
 },
 "nbformat": 4,
 "nbformat_minor": 4
}
